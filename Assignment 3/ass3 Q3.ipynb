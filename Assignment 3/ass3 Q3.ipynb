{
 "cells": [
  {
   "cell_type": "code",
   "execution_count": 1,
   "id": "a76e2559",
   "metadata": {},
   "outputs": [
    {
     "data": {
      "text/plain": [
       "'Sales of products in four different regions is tabulated for males and females. Find if male-female buyer rations are similar across regions.\\n'"
      ]
     },
     "execution_count": 1,
     "metadata": {},
     "output_type": "execute_result"
    }
   ],
   "source": [
    "\"\"\"Sales of products in four different regions is tabulated for males and females. Find if male-female buyer rations are similar across regions.\n",
    "\"\"\""
   ]
  },
  {
   "cell_type": "code",
   "execution_count": 2,
   "id": "66bfa975",
   "metadata": {},
   "outputs": [],
   "source": [
    "import scipy.stats as stats\n",
    "import statsmodels.api as sm\n",
    "import numpy as np\n",
    "import pandas as pd\n",
    "import warnings\n",
    "warnings.filterwarnings(\"ignore\")\n",
    "from PIL import ImageGrab\n",
    "import matplotlib.pyplot as plt\n",
    "import seaborn as sns"
   ]
  },
  {
   "cell_type": "code",
   "execution_count": 3,
   "id": "f29e0a3a",
   "metadata": {},
   "outputs": [
    {
     "name": "stdout",
     "output_type": "stream",
     "text": [
      " We are going to conduct a Test of Independence using Chi-Square x2 test with Contingency table \n",
      " We need to check whether the proportion of any of these samples are different or the same? \n",
      "  \n"
     ]
    }
   ],
   "source": [
    "print(' We are going to conduct a Test of Independence using Chi-Square x2 test with Contingency table \\n We need to check whether the proportion of any of these samples are different or the same? \\n  ')"
   ]
  },
  {
   "cell_type": "code",
   "execution_count": 4,
   "id": "959ef8f7",
   "metadata": {},
   "outputs": [
    {
     "name": "stdout",
     "output_type": "stream",
     "text": [
      " Step 1: \n",
      " Make two Hypothesis one contradicting to other \n",
      " Null Hypothesis is want we want to prove \n",
      " Null Hypothesis: There is no association or dependency between the gender based buyer rations across regions  \n",
      " Alternative Hypthosis: There is a significant association or dependency between the gender based buyer rations across regions\n"
     ]
    }
   ],
   "source": [
    "print(' Step 1: \\n Make two Hypothesis one contradicting to other \\n Null Hypothesis is want we want to prove \\n Null Hypothesis: There is no association or dependency between the gender based buyer rations across regions  \\n Alternative Hypthosis: There is a significant association or dependency between the gender based buyer rations across regions')"
   ]
  },
  {
   "cell_type": "code",
   "execution_count": 5,
   "id": "77ab5317",
   "metadata": {},
   "outputs": [
    {
     "name": "stdout",
     "output_type": "stream",
     "text": [
      " Step 2: \n",
      " Decide a cut-off value \n",
      " Significance 5% \n",
      " alpha = 0.05 \n",
      " As it is a one-tailed test \n",
      " alpha = 1-0.95 = 0.05\n"
     ]
    }
   ],
   "source": [
    "print(' Step 2: \\n Decide a cut-off value \\n Significance 5% \\n alpha = 0.05 \\n As it is a one-tailed test \\n alpha = 1-0.95 = 0.05')"
   ]
  },
  {
   "cell_type": "code",
   "execution_count": 6,
   "id": "3d25adf3",
   "metadata": {},
   "outputs": [
    {
     "name": "stdout",
     "output_type": "stream",
     "text": [
      " Step 3: \n",
      " Collect evidence \n",
      " Importing Files \n",
      " \n"
     ]
    }
   ],
   "source": [
    "print(' Step 3: \\n Collect evidence \\n Importing Files \\n ')"
   ]
  },
  {
   "cell_type": "code",
   "execution_count": 7,
   "id": "3aebddeb",
   "metadata": {},
   "outputs": [
    {
     "data": {
      "text/html": [
       "<div>\n",
       "<style scoped>\n",
       "    .dataframe tbody tr th:only-of-type {\n",
       "        vertical-align: middle;\n",
       "    }\n",
       "\n",
       "    .dataframe tbody tr th {\n",
       "        vertical-align: top;\n",
       "    }\n",
       "\n",
       "    .dataframe thead th {\n",
       "        text-align: right;\n",
       "    }\n",
       "</style>\n",
       "<table border=\"1\" class=\"dataframe\">\n",
       "  <thead>\n",
       "    <tr style=\"text-align: right;\">\n",
       "      <th></th>\n",
       "      <th>East</th>\n",
       "      <th>West</th>\n",
       "      <th>North</th>\n",
       "      <th>South</th>\n",
       "    </tr>\n",
       "    <tr>\n",
       "      <th>Observed Values</th>\n",
       "      <th></th>\n",
       "      <th></th>\n",
       "      <th></th>\n",
       "      <th></th>\n",
       "    </tr>\n",
       "  </thead>\n",
       "  <tbody>\n",
       "    <tr>\n",
       "      <th>Males</th>\n",
       "      <td>50</td>\n",
       "      <td>142</td>\n",
       "      <td>131</td>\n",
       "      <td>70</td>\n",
       "    </tr>\n",
       "    <tr>\n",
       "      <th>Females</th>\n",
       "      <td>435</td>\n",
       "      <td>1523</td>\n",
       "      <td>1356</td>\n",
       "      <td>750</td>\n",
       "    </tr>\n",
       "  </tbody>\n",
       "</table>\n",
       "</div>"
      ],
      "text/plain": [
       "                 East  West  North  South\n",
       "Observed Values                          \n",
       "Males              50   142    131     70\n",
       "Females           435  1523   1356    750"
      ]
     },
     "execution_count": 7,
     "metadata": {},
     "output_type": "execute_result"
    }
   ],
   "source": [
    "buyer = pd.read_csv(r'C:\\Users\\pv437\\Desktop\\Data Scince Folder\\assignment\\assignment downloads\\ass3\\BuyerRatio.csv', index_col = 0)\n",
    "buyer"
   ]
  },
  {
   "cell_type": "code",
   "execution_count": 8,
   "id": "c9bd74ac",
   "metadata": {},
   "outputs": [
    {
     "data": {
      "text/plain": [
       "[[50, 142, 131, 70], [435, 1523, 1356, 750]]"
      ]
     },
     "execution_count": 8,
     "metadata": {},
     "output_type": "execute_result"
    }
   ],
   "source": [
    "table = [[50,142,131,70],\n",
    "        [435,1523,1356,750]]\n",
    "table"
   ]
  },
  {
   "cell_type": "code",
   "execution_count": 9,
   "id": "47d35d31",
   "metadata": {},
   "outputs": [
    {
     "name": "stdout",
     "output_type": "stream",
     "text": [
      "1.595945538661058 \n",
      " 0.6603094907091882 \n",
      " 3 \n",
      " [[  42.76531299  146.81287862  131.11756787   72.30424052]\n",
      " [ 442.23468701 1518.18712138 1355.88243213  747.69575948]]\n"
     ]
    }
   ],
   "source": [
    "'''Applying Chi-Square x2 contingency table to convert observed value into expected value'''\n",
    "stat, p, dof, exp = stats.chi2_contingency(buyer) \n",
    "print(stat,\"\\n\", p,\"\\n\", dof,\"\\n\", exp)\n"
   ]
  },
  {
   "cell_type": "code",
   "execution_count": 10,
   "id": "0cf00c06",
   "metadata": {},
   "outputs": [
    {
     "data": {
      "text/plain": [
       "(1.595945538661058,\n",
       " 0.6603094907091882,\n",
       " 3,\n",
       " array([[  42.76531299,  146.81287862,  131.11756787,   72.30424052],\n",
       "        [ 442.23468701, 1518.18712138, 1355.88243213,  747.69575948]]))"
      ]
     },
     "execution_count": 10,
     "metadata": {},
     "output_type": "execute_result"
    }
   ],
   "source": [
    "stats.chi2_contingency(table) "
   ]
  },
  {
   "cell_type": "code",
   "execution_count": 11,
   "id": "f6aaa4c6",
   "metadata": {},
   "outputs": [],
   "source": [
    "observed = np.array([50, 142, 131, 70, 435, 1523, 1356, 750])\n",
    "expected = np.array([42.76531299,  146.81287862,  131.11756787, 72.30424052, 442.23468701, 1518.18712138, 1355.88243213, 747.69575948])"
   ]
  },
  {
   "cell_type": "code",
   "execution_count": 12,
   "id": "bd14265c",
   "metadata": {},
   "outputs": [
    {
     "name": "stdout",
     "output_type": "stream",
     "text": [
      " Step 4: \n",
      " Comparing Evidence with Hypothesis\n"
     ]
    }
   ],
   "source": [
    "print(' Step 4: \\n Comparing Evidence with Hypothesis')"
   ]
  },
  {
   "cell_type": "code",
   "execution_count": 13,
   "id": "3db44647",
   "metadata": {},
   "outputs": [
    {
     "name": "stdout",
     "output_type": "stream",
     "text": [
      "Statistics =  1.5959455390914483 \n",
      " P_Value =  0.8095206646905712\n"
     ]
    }
   ],
   "source": [
    "statistics, p_value = stats.chisquare(observed, expected, ddof = 3)\n",
    "print(\"Statistics = \",statistics,\"\\n\",'P_Value = ', p_value)"
   ]
  },
  {
   "cell_type": "code",
   "execution_count": 14,
   "id": "54f6949a",
   "metadata": {},
   "outputs": [
    {
     "name": "stdout",
     "output_type": "stream",
     "text": [
      " Compare p_value with alpha (Significane Level) \n",
      " If p_value is !=alpha we failed to reject Null Hypothesis because of lack of evidence  \n",
      " If p_value is =alpha we reject Null Hypothesis \n",
      " interpreting p-value\n"
     ]
    }
   ],
   "source": [
    "print(' Compare p_value with alpha (Significane Level) \\n If p_value is !=alpha we failed to reject Null Hypothesis because of lack of evidence  \\n If p_value is =alpha we reject Null Hypothesis \\n interpreting p-value')"
   ]
  },
  {
   "cell_type": "code",
   "execution_count": 15,
   "id": "888f5282",
   "metadata": {},
   "outputs": [
    {
     "name": "stdout",
     "output_type": "stream",
     "text": [
      "Significnace=0.050, p=0.810\n",
      "We fail to reject Null hypothesis\n"
     ]
    }
   ],
   "source": [
    "alpha = 0.05\n",
    "print('Significnace=%.3f, p=%.3f' % (alpha, p_value))\n",
    "if p_value <= alpha:\n",
    "    print('We reject Null Hypothesis there is a significance difference between TAT of reports of the laboratories')\n",
    "else:\n",
    "    print('We fail to reject Null hypothesis')"
   ]
  },
  {
   "cell_type": "code",
   "execution_count": 16,
   "id": "e796e631",
   "metadata": {},
   "outputs": [
    {
     "data": {
      "text/plain": [
       "'We fail to reject Null Hypothesis because of lack evidence. Therefore, there is no association or dependency between male-female buyers rations and are similar across regions. Hence, Independent samples'"
      ]
     },
     "execution_count": 16,
     "metadata": {},
     "output_type": "execute_result"
    }
   ],
   "source": [
    "'''We fail to reject Null Hypothesis because of lack evidence. Therefore, there is no association or dependency between male-female buyers rations and are similar across regions. Hence, Independent samples'''"
   ]
  }
 ],
 "metadata": {
  "kernelspec": {
   "display_name": "Python 3 (ipykernel)",
   "language": "python",
   "name": "python3"
  },
  "language_info": {
   "codemirror_mode": {
    "name": "ipython",
    "version": 3
   },
   "file_extension": ".py",
   "mimetype": "text/x-python",
   "name": "python",
   "nbconvert_exporter": "python",
   "pygments_lexer": "ipython3",
   "version": "3.9.13"
  }
 },
 "nbformat": 4,
 "nbformat_minor": 5
}
